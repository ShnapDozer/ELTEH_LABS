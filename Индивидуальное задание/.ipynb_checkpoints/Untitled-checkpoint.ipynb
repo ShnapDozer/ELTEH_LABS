{
 "cells": [
  {
   "cell_type": "code",
   "execution_count": 1,
   "id": "364f7295",
   "metadata": {},
   "outputs": [],
   "source": [
    "\n"
   ]
  },
  {
   "cell_type": "code",
   "execution_count": 32,
   "id": "de0e4740",
   "metadata": {},
   "outputs": [],
   "source": [
    "import math\n",
    "import numpy as np;\n",
    "from math import atan2"
   ]
  },
  {
   "cell_type": "code",
   "execution_count": 16,
   "id": "060bd9bc",
   "metadata": {},
   "outputs": [
    {
     "name": "stdout",
     "output_type": "stream",
     "text": [
      "[[0.+0.j 0.+1.j]\n",
      " [1.+0.j 1.+1.j]]\n"
     ]
    }
   ],
   "source": [
    "m = np.array([[0, 1j], [1, 1+1j]])\n",
    "print(m)"
   ]
  },
  {
   "cell_type": "code",
   "execution_count": 13,
   "id": "aae143d3",
   "metadata": {},
   "outputs": [],
   "source": [
    "Zl1 = 1j*314*25*10**-3\n",
    "Zl2 = 1j*314*95*10**-3\n",
    "Zc2 = 1/(1j*314*159*10**-6)"
   ]
  },
  {
   "cell_type": "code",
   "execution_count": 8,
   "id": "9746b59a",
   "metadata": {},
   "outputs": [
    {
     "name": "stdout",
     "output_type": "stream",
     "text": [
      "7.8500000000000005j\n"
     ]
    }
   ],
   "source": [
    "print(Zl1)"
   ]
  },
  {
   "cell_type": "code",
   "execution_count": 25,
   "id": "802dc3c9",
   "metadata": {},
   "outputs": [
    {
     "name": "stdout",
     "output_type": "stream",
     "text": [
      "(6+7.8500000000000005j)\n"
     ]
    }
   ],
   "source": [
    "Z1 = 6 + Zl1\n",
    "Z2 = 20 + Zl2\n",
    "Z3 = Zc2\n",
    "print(Z1)\n"
   ]
  },
  {
   "cell_type": "code",
   "execution_count": 27,
   "id": "c94480df",
   "metadata": {},
   "outputs": [
    {
     "name": "stdout",
     "output_type": "stream",
     "text": [
      "[[3.71242662+3.36596752j]\n",
      " [1.24915995-4.33003977j]\n",
      " [2.46326667+7.6960073j ]]\n"
     ]
    }
   ],
   "source": [
    "X = np.array([  \n",
    "      [1, -1, -1]\n",
    "    , [Z1, 0, Z3]\n",
    "    , [0, Z2, -Z3]\n",
    "])\n",
    "\n",
    "A = np.array([  \n",
    "      [0]\n",
    "    , [150]\n",
    "    , [0]\n",
    "])\n",
    "res = numpy.linalg.solve(X, A)\n",
    "print(numpy.linalg.solve(X, A))"
   ]
  },
  {
   "cell_type": "code",
   "execution_count": 45,
   "id": "ef0f6158",
   "metadata": {},
   "outputs": [
    {
     "name": "stdout",
     "output_type": "stream",
     "text": [
      "Z1 = 9.880409910524968 e**i 52.33661101799312 2958\n",
      "Z2 = 35.91418800418575 e**i 55.86957850231222 2958\n",
      "Z3 = 20.02964387293194 e**i -89.5353906273091 2958\n",
      "\n",
      "I1 = [5.01117239] e**i 41.97999796525505 2958\n",
      "I2 = [4.50662235] e**i -73.52630334118923 2958\n",
      "I3 = [8.08060709] e**i 71.87866578843209 2958\n",
      "\n",
      "U1 = [49.51243738] e**i 94.31660898324817 2958\n",
      "U2 = [161.85168231] e**i -17.65672483887701 2958\n",
      "U3 = [161.85168231] e**i -17.656724838877015 2958\n"
     ]
    }
   ],
   "source": [
    "print(\"Z1 =\", abs(Z1), \"e**i\", atan2(Z1.imag, Z1.real)*57,2958)\n",
    "print(\"Z2 =\", abs(Z2), \"e**i\", atan2(Z2.imag, Z2.real)*57,2958)\n",
    "print(\"Z3 =\", abs(Z3), \"e**i\", atan2(Z3.imag, Z3.real)*57,2958)\n",
    "\n",
    "print(\"\\nI1 =\", abs(res[0]), \"e**i\", atan2(res[0].imag, res[0].real)*57,2958)\n",
    "print(\"I2 =\", abs(res[1]), \"e**i\", atan2(res[1].imag, res[1].real)*57,2958)\n",
    "print(\"I3 =\", abs(res[2]), \"e**i\", atan2(res[2].imag, res[2].real)*57,2958)\n",
    "\n",
    "U1 = Z1*res[0]\n",
    "U2 = Z2*res[1]\n",
    "U3 = Z3*res[2]\n",
    "\n",
    "print(\"\\nU1 =\", abs(U1), \"e**i\", atan2(U1.imag, U1.real)*57,2958)\n",
    "print(\"U2 =\", abs(U2), \"e**i\", atan2(U2.imag, U2.real)*57,2958)\n",
    "print(\"U3 =\", abs(U3), \"e**i\", atan2(U3.imag, U3.real)*57,2958)\n"
   ]
  },
  {
   "cell_type": "code",
   "execution_count": 65,
   "id": "1687a192",
   "metadata": {},
   "outputs": [
    {
     "name": "stdout",
     "output_type": "stream",
     "text": [
      "[556.86399251-504.8951287j] [556.86399251+504.8951287j]\n"
     ]
    }
   ],
   "source": [
    "Sract = (abs(res[0])**2)*Zl1 + (abs(res[1])**2)*Zl2 + (abs(res[2])**2)*Zc2\n",
    "Sact = (abs(res[0])**2)*6 + (abs(res[1])**2)*20\n",
    "Ssource = res[0] * 150\n",
    "print(Sact + Sract, Ssource)"
   ]
  },
  {
   "cell_type": "code",
   "execution_count": null,
   "id": "393e3db1",
   "metadata": {},
   "outputs": [],
   "source": []
  }
 ],
 "metadata": {
  "kernelspec": {
   "display_name": "Python 3 (ipykernel)",
   "language": "python",
   "name": "python3"
  },
  "language_info": {
   "codemirror_mode": {
    "name": "ipython",
    "version": 3
   },
   "file_extension": ".py",
   "mimetype": "text/x-python",
   "name": "python",
   "nbconvert_exporter": "python",
   "pygments_lexer": "ipython3",
   "version": "3.11.5"
  }
 },
 "nbformat": 4,
 "nbformat_minor": 5
}
